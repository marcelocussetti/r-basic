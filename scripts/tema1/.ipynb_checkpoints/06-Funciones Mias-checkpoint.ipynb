{
 "cells": [
  {
   "cell_type": "markdown",
   "metadata": {},
   "source": [
    "# Funciones en Python"
   ]
  },
  {
   "cell_type": "markdown",
   "metadata": {},
   "source": [
    "Métodos"
   ]
  },
  {
   "cell_type": "code",
   "execution_count": 1,
   "metadata": {},
   "outputs": [],
   "source": [
    "def suma(n1,n2):\n",
    "    return n1+n2"
   ]
  },
  {
   "cell_type": "code",
   "execution_count": 34,
   "metadata": {},
   "outputs": [
    {
     "data": {
      "text/plain": [
       "110"
      ]
     },
     "execution_count": 34,
     "metadata": {},
     "output_type": "execute_result"
    }
   ],
   "source": [
    "suma(n1=95,n2=15)"
   ]
  },
  {
   "cell_type": "code",
   "execution_count": null,
   "metadata": {},
   "outputs": [],
   "source": [
    "class operaciones(object):\n",
    "    def suma(self,n1,n2):\n",
    "        self.resultado=n1+n2\n",
    "        return self.resultado\n",
    "    def resta(self,n1,n2):\n",
    "        self.resultado=n1-n2\n",
    "        return self.resultado"
   ]
  },
  {
   "cell_type": "code",
   "execution_count": 44,
   "metadata": {},
   "outputs": [
    {
     "name": "stdout",
     "output_type": "stream",
     "text": [
      "Vamos a realizar algunas operaciones matemáticas simples.\n",
      "por favor ingresa el primer número:5\n",
      "por favor ingresa el segundo número:6\n",
      " la suma nos da: 11.0\n",
      " la resta nos da: -1.0\n",
      " la multiplicacion nos da: 30.0\n",
      " la división nos da: 0.8333333333333334\n"
     ]
    },
    {
     "data": {
      "text/plain": [
       "(11.0, -1.0, 30.0, 0.8333333333333334)"
      ]
     },
     "execution_count": 44,
     "metadata": {},
     "output_type": "execute_result"
    }
   ],
   "source": [
    "print(\"Vamos a realizar algunas operaciones matemáticas simples.\")\n",
    "n1=float(input(\"por favor ingresa el primer número:\"))\n",
    "n2=float(input(\"por favor ingresa el segundo número:\"))\n",
    "\n",
    "\n",
    "class opVarias(object):\n",
    "    def operaciones(self,n1,n2):\n",
    "        self.suma = n1+n2\n",
    "        self.resta = n1-n2\n",
    "        self.multiplicacion = n1*n2\n",
    "        self.division = n1/n2\n",
    "        \n",
    "        print(f\" la suma nos da: {self.suma}\")\n",
    "        print(f\" la resta nos da: {self.resta}\")\n",
    "        print(f\" la multiplicacion nos da: {self.multiplicacion}\")\n",
    "        print(f\" la división nos da: {self.division}\")\n",
    "        \n",
    "        return (self.suma, self.resta, self.multiplicacion, self.division)\n",
    "\n",
    "    \n",
    "instanciaOpVarias = opVarias()    \n",
    "instanciaOpVarias.operaciones(n1,n2)\n",
    "    "
   ]
  },
  {
   "cell_type": "code",
   "execution_count": 39,
   "metadata": {},
   "outputs": [
    {
     "data": {
      "text/plain": [
       "5.0"
      ]
     },
     "execution_count": 39,
     "metadata": {},
     "output_type": "execute_result"
    }
   ],
   "source": [
    "instanciaOp =operaciones()\n",
    "RSuma=instanciaOp.suma(n1,n2)\n",
    "RSuma"
   ]
  },
  {
   "cell_type": "code",
   "execution_count": 40,
   "metadata": {},
   "outputs": [
    {
     "data": {
      "text/plain": [
       "-73.0"
      ]
     },
     "execution_count": 40,
     "metadata": {},
     "output_type": "execute_result"
    }
   ],
   "source": [
    "instanciaOp =operaciones()\n",
    "instanciaOp.resta(n1=RSuma,n2=78)"
   ]
  },
  {
   "cell_type": "code",
   "execution_count": null,
   "metadata": {},
   "outputs": [],
   "source": []
  }
 ],
 "metadata": {
  "kernelspec": {
   "display_name": "Python 3",
   "language": "python",
   "name": "python3"
  },
  "language_info": {
   "codemirror_mode": {
    "name": "ipython",
    "version": 3
   },
   "file_extension": ".py",
   "mimetype": "text/x-python",
   "name": "python",
   "nbconvert_exporter": "python",
   "pygments_lexer": "ipython3",
   "version": "3.7.9"
  }
 },
 "nbformat": 4,
 "nbformat_minor": 4
}
