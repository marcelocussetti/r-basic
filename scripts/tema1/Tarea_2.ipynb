{
 "cells": [
  {
   "cell_type": "markdown",
   "metadata": {},
   "source": [
    "# Escribe una secuencia de instrucciones que permitan leer un número real por pantalla y que muestre si el número es positivo o no.\n",
    "\n",
    "Lógica: Pedir al usuario que ingrese un número entero, analizar si es positivo o no y mostrarlo en pantalla"
   ]
  },
  {
   "cell_type": "code",
   "execution_count": 5,
   "metadata": {},
   "outputs": [
    {
     "name": "stdout",
     "output_type": "stream",
     "text": [
      "por favor ingresa un número real: 5\n",
      "El número que ingresaste es 5 y es positivo!\n"
     ]
    }
   ],
   "source": [
    "def esPositivo(n1):\n",
    "    if n1 > 0:\n",
    "        print(f\"El número que ingresaste es {n1} y es positivo!\")\n",
    "    else:\n",
    "         print(f\"El número que ingresaste es {n1} y es negativo!\")\n",
    "    return\n",
    "\n",
    "\n",
    "n1= int(input(\"por favor ingresa un número real: \"))\n",
    "\n",
    "\n",
    "esPositivo(n1)"
   ]
  },
  {
   "cell_type": "markdown",
   "metadata": {},
   "source": [
    "# Escribe una secuencia de instrucciones que permitan leer un número real por pantalla y que muestre si el número está en el rango entre -5 y 5\n",
    "Lógica: pedir al usuario que ingrese un número entero, analizar si está o no dentro del rango delimitado"
   ]
  },
  {
   "cell_type": "code",
   "execution_count": 8,
   "metadata": {},
   "outputs": [
    {
     "name": "stdout",
     "output_type": "stream",
     "text": [
      "por favor ingresa un número real: -2\n",
      "El número que ingresaste es 5 y está dentro del rango solicitado!\n"
     ]
    }
   ],
   "source": [
    "def enRango(n2):\n",
    "    \n",
    "    if n2 > -5 and n2 < 5:\n",
    "        print(f\"El número que ingresaste es {n1} y está dentro del rango solicitado!\")\n",
    "    else:\n",
    "         print(f\"El número que ingresaste es {n1} y no está dentro del rango solicitado!\")\n",
    "    return\n",
    "\n",
    "n2= int(input(\"por favor ingresa un número real: \"))\n",
    "\n",
    "\n",
    "enRango(n2)"
   ]
  },
  {
   "cell_type": "markdown",
   "metadata": {},
   "source": [
    "# Escribe una secuencia de instrucciones que permitan leer las coordenadas de un punto (x, y) e indique en cuál de los cuatro cuadrantes se encuentra dicho punto. \n",
    "pedir al usuario que ingrese 2 valores(x, y), si los dos son positivos (>0) corresponde al cuadrante 1, si x es negativo e Y positivo corresponde al cuadrante2, si ambos son negativos corresponde al 3 y, por último, si X es positivo e Y negativo estamos dentro del cudrante 4."
   ]
  },
  {
   "cell_type": "code",
   "execution_count": 12,
   "metadata": {},
   "outputs": [
    {
     "name": "stdout",
     "output_type": "stream",
     "text": [
      "por favor ingresa un valos para el eje x: 6\n",
      "por favor ingresa un valos para el eje y: -6\n",
      "X = 6.0 e Y = -6.0, por lo tanto estamos en el cuarto cuadrante!\n"
     ]
    }
   ],
   "source": [
    "def cualQ(x,y):\n",
    "    if x > 0 and y > 0:\n",
    "        print(f\"X = {x} e Y = {y}, por lo tanto estamos en el primer cuadrante!\")\n",
    "    elif x < 0 and y > 0:\n",
    "        print(f\"X = {x} e Y = {y}, por lo tanto estamos en el segundo cuadrante!\")\n",
    "    elif x < 0 and y < 0:\n",
    "        print(f\"X = {x} e Y = {y}, por lo tanto estamos en el tercer cuadrante!\")\n",
    "    else:\n",
    "        print(f\"X = {x} e Y = {y}, por lo tanto estamos en el cuarto cuadrante!\")\n",
    "    \n",
    "    return\n",
    "\n",
    "x= float(input(\"por favor ingresa un valos para el eje x: \"))\n",
    "y= float(input(\"por favor ingresa un valos para el eje y: \"))\n",
    "\n",
    "\n",
    "cualQ(x,y)\n",
    "        \n",
    "        "
   ]
  },
  {
   "cell_type": "markdown",
   "metadata": {},
   "source": [
    "# Escribe una secuencia de instrucciones que permitan leer dos números enteros y muestre el cociente de la división entera y el resto."
   ]
  },
  {
   "cell_type": "code",
   "execution_count": 15,
   "metadata": {},
   "outputs": [
    {
     "name": "stdout",
     "output_type": "stream",
     "text": [
      "por favor ingresa un número entero: 5\n",
      "por favor ingresa uno más: 1\n",
      "según los número que ingresaste podemos saber que el cociente de la divión entera es: 5 y el resto es: 0\n"
     ]
    }
   ],
   "source": [
    "def divs(num1,num2):\n",
    "    cociente= num1 // num2\n",
    "    resto= num1 % num2\n",
    "    print(f\"según los número que ingresaste podemos saber que el cociente de la divión entera es: {cociente} y el resto es: {resto}\")\n",
    "    return\n",
    "\n",
    "num1= int(input(\"por favor ingresa un número entero: \"))\n",
    "num2= int(input(\"por favor ingresa uno más: \"))\n",
    "\n",
    "\n",
    "\n",
    "divs(num1,num2)"
   ]
  },
  {
   "cell_type": "markdown",
   "metadata": {},
   "source": [
    "# Escribe una secuencia de instrucciones que permitan leer un número entero es cuadrado perfecto o no (piensa la mejor forma de hacerlo con lo que has aprendido hasta ahora)\n",
    "Lógica: evaliuar si la raíz cuadrada del número ingresado corresponde a un entero. Sí corresponde se trata de un cuagrado perfecto!"
   ]
  },
  {
   "cell_type": "code",
   "execution_count": 39,
   "metadata": {},
   "outputs": [
    {
     "name": "stdout",
     "output_type": "stream",
     "text": [
      "por favor ingresa un número entero: 169\n",
      "felicitaciones 169, el valor que has ingresado, en es un cuadrado perfecto!\n"
     ]
    }
   ],
   "source": [
    "import math\n",
    "valor= int(input(\"por favor ingresa un número entero: \"))\n",
    "\n",
    "def esEntero(raizValor):\n",
    "    raizValor= math.sqrt(valor) % 1\n",
    "    if raizValor == 0:\n",
    "        print(f\"felicitaciones {valor}, el valor que has ingresado, en es un cuadrado perfecto!\")\n",
    "    else:\n",
    "        print(f\"{valor} no es un cuadrado perfecto pero no te desanimes. Puedes volver a inetntarlo!\")\n",
    "        \n",
    "    return\n",
    "\n",
    "esEntero(valor)"
   ]
  },
  {
   "cell_type": "markdown",
   "metadata": {},
   "source": [
    "# Escribe una expresión que permita determinar si un número entero positivo puede corresponder a un año bisiesto o no. Se consideran años bisiestos aquellos cuyo número es divisible por cuatro excepto los años que son múltiplos de 100, a no ser que lo sean de 400 (por ejemplo el año 2000 fue bisiesto pero el 2100 no lo será)."
   ]
  },
  {
   "cell_type": "code",
   "execution_count": 37,
   "metadata": {},
   "outputs": [
    {
     "name": "stdout",
     "output_type": "stream",
     "text": [
      "por favor ingresa un número entero positivo para saber si corresponde a un año bisiesto: 2040\n",
      "div4 vale esto 0.0!\n",
      "div100 vale esto 0.3999999999999986!\n",
      "div400 vale esto 0.09999999999999964!\n",
      "es divisible por 4!\n",
      "NO es múltiplo de 100 ni de 400!\n",
      "2040 es un año bisiesto!\n"
     ]
    }
   ],
   "source": [
    "anio= int(input(\"por favor ingresa un número entero positivo para saber si corresponde a un año bisiesto: \"))\n",
    "\n",
    "def calculosAnio(anio):\n",
    "    div4 = (anio/4) % 1\n",
    "    div100= (anio/100) % 1\n",
    "    div400= (anio/400) % 1\n",
    "    print(f\"div4 vale esto {div4}!\")\n",
    "    print(f\"div100 vale esto {div100}!\")\n",
    "    print(f\"div400 vale esto {div400}!\")\n",
    "    llave1= 0\n",
    "    llave2= 0\n",
    "    \n",
    "    if div4 == 0:\n",
    "        llave1= 1\n",
    "        print(f\"es divisible por 4!\")\n",
    "        \n",
    "        if div100 == 0 and div400 !=0:\n",
    "            print(f\"es múltiplo de 100 pero no de 400!\")\n",
    "            llave2=0\n",
    "            \n",
    "        elif div100 == 0 and div400 ==0:\n",
    "            print(f\"es múltiplo de 100 y 400!\")\n",
    "            llave2=1\n",
    "            \n",
    "        elif div100 != 0 and div400 !=0:\n",
    "            print(f\"NO es múltiplo de 100 ni de 400!\")\n",
    "            llave2=1\n",
    "            \n",
    "    esBisiesto(llave1,llave2)\n",
    "    return\n",
    "\n",
    "\n",
    "def esBisiesto(llave1,llave2):\n",
    "            \n",
    "    if llave1 == 1 and llave2 == 1:\n",
    "        print(f\"{anio} es un año bisiesto!\")\n",
    "    else:\n",
    "        print(f\"{anio} NO es un año bisiesto!\")\n",
    "            \n",
    "    return\n",
    "\n",
    "calculosAnio(anio)"
   ]
  },
  {
   "cell_type": "markdown",
   "metadata": {},
   "source": [
    "# Busca la imagen de un tablero de ajedrez en Google y fíjate en la nomenclatura de las casillas. Escribe una expresión lea una letra y un número de teclado correspondiente a una casilla de un tablero de ajedrez y nos indique si esta casilla es negra o blanca.\n",
    "Logica: utilizar un for i para determinar en que pocisión del vector letras se encuentra "
   ]
  },
  {
   "cell_type": "code",
   "execution_count": 91,
   "metadata": {},
   "outputs": [
    {
     "name": "stdout",
     "output_type": "stream",
     "text": [
      "Por favor ingresa una letra de A a H: a\n",
      "por favor ingresa un número entero positivo entre 1 y 8 4\n",
      "en el tablero de ajedres las coordenadas A y 4 forman una casilla color negro\n"
     ]
    }
   ],
   "source": [
    "letra= input(\"Por favor ingresa una letra de A a H: \")\n",
    "letra= letra.upper()\n",
    "numero= int(input(\"por favor ingresa un número entero positivo entre 1 y 8 \"))\n",
    "\n",
    "def qColor(indiceL,numero):\n",
    "    valorLetra = indiceL+1\n",
    "    casilla =valorLetra + numero\n",
    "    restoCasilla = casilla % 2\n",
    "    if restoCasilla == 0.0:\n",
    "        print (f\"en el tablero de ajedres las coordenadas {letra} y {numero} forman una casilla color blanco\")\n",
    "    elif restoCasilla != 0.0:\n",
    "        print (f\"en el tablero de ajedres las coordenadas {letra} y {numero} forman una casilla color negro\")\n",
    "    return\n",
    "\n",
    "\n",
    "def letraValida(letra):\n",
    "    vectorLetras= [\"A\",\"B\",\"C\",\"D\",\"E\",\"F\",\"G\",\"H\"]\n",
    "    vectorNumeros= [1,2,3,4,5,6,7,8]\n",
    "    \n",
    "    if letra in vectorLetras and numero in vectorNumeros:\n",
    "        indiceL = vectorLetras.index(letra)       \n",
    "        qColor(indiceL,numero)\n",
    "        \n",
    "    else:\n",
    "        print(f\"no, la {letra} o el número {numero} no están dentro del rango...\")\n",
    "        \n",
    "    return\n",
    "\n",
    "\n",
    "letraValida(letra)\n"
   ]
  },
  {
   "cell_type": "code",
   "execution_count": null,
   "metadata": {},
   "outputs": [],
   "source": []
  },
  {
   "cell_type": "code",
   "execution_count": null,
   "metadata": {},
   "outputs": [],
   "source": []
  }
 ],
 "metadata": {
  "kernelspec": {
   "display_name": "Python 3",
   "language": "python",
   "name": "python3"
  },
  "language_info": {
   "codemirror_mode": {
    "name": "ipython",
    "version": 3
   },
   "file_extension": ".py",
   "mimetype": "text/x-python",
   "name": "python",
   "nbconvert_exporter": "python",
   "pygments_lexer": "ipython3",
   "version": "3.7.9"
  }
 },
 "nbformat": 4,
 "nbformat_minor": 4
}
