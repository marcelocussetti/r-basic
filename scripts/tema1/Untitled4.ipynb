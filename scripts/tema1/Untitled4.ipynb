{
 "cells": [
  {
   "cell_type": "code",
   "execution_count": 9,
   "metadata": {},
   "outputs": [
    {
     "name": "stdout",
     "output_type": "stream",
     "text": [
      "Escribe una letra:D\n",
      "Escribe un Numero:4\n",
      "esta es la letra: D y este es el número: 4\n",
      "La casilla es negra\n"
     ]
    }
   ],
   "source": [
    "L = input('Escribe una letra:')\n",
    "N = int(input('Escribe un Numero:'))\n",
    " \n",
    "#Letra = [\"A\",\"B\",\"C\",\"D\",\"E\",\"F\",\"G\",\"H\"]\n",
    "#Numero = [1,2,3,4,5,6,7,8]\n",
    " \n",
    "def Casilla(Letra,Numero):\n",
    "    if Letra and Numero % 2 == 0:\n",
    "        print(f\"esta es la letra: {Letra} y este es el número: {Numero}\")\n",
    "        print('La casilla es negra')\n",
    "    elif Letra and Numero % 2 != 0:\n",
    "        print(f\"estav es la letra: {Letra} y este es el número: {Numero}\")\n",
    "        print('La casilla es blanca')\n",
    "    else:\n",
    "        print('No existe')\n",
    "    return\n",
    "Casilla(L,N)"
   ]
  },
  {
   "cell_type": "code",
   "execution_count": null,
   "metadata": {},
   "outputs": [],
   "source": []
  }
 ],
 "metadata": {
  "kernelspec": {
   "display_name": "Python 3",
   "language": "python",
   "name": "python3"
  },
  "language_info": {
   "codemirror_mode": {
    "name": "ipython",
    "version": 3
   },
   "file_extension": ".py",
   "mimetype": "text/x-python",
   "name": "python",
   "nbconvert_exporter": "python",
   "pygments_lexer": "ipython3",
   "version": "3.7.9"
  }
 },
 "nbformat": 4,
 "nbformat_minor": 4
}
