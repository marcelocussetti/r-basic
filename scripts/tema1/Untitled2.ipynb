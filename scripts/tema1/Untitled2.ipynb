{
 "cells": [
  {
   "cell_type": "code",
   "execution_count": 7,
   "metadata": {},
   "outputs": [
    {
     "name": "stdout",
     "output_type": "stream",
     "text": [
      "ingrese un valor en radianes: 2\n",
      "114.59155902616465\n"
     ]
    }
   ],
   "source": [
    "import math\n",
    "rad=int(input(\"ingrese un valor en radianes: \"))\n",
    "\n",
    "\n",
    "def agrados(rad):\n",
    "    \n",
    "    enGrados=rad*180/math.pi\n",
    "    \n",
    "    print(enGrados)\n",
    "    \n",
    "    \n",
    "    return\n",
    "\n",
    "agrados(rad)"
   ]
  },
  {
   "cell_type": "code",
   "execution_count": null,
   "metadata": {},
   "outputs": [],
   "source": []
  }
 ],
 "metadata": {
  "kernelspec": {
   "display_name": "Python 3",
   "language": "python",
   "name": "python3"
  },
  "language_info": {
   "codemirror_mode": {
    "name": "ipython",
    "version": 3
   },
   "file_extension": ".py",
   "mimetype": "text/x-python",
   "name": "python",
   "nbconvert_exporter": "python",
   "pygments_lexer": "ipython3",
   "version": "3.7.9"
  }
 },
 "nbformat": 4,
 "nbformat_minor": 4
}
