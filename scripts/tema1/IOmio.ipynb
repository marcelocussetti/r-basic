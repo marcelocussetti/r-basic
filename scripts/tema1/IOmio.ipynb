{
 "cells": [
  {
   "cell_type": "markdown",
   "metadata": {},
   "source": [
    "# Entrada y salida de datos"
   ]
  },
  {
   "cell_type": "code",
   "execution_count": 6,
   "metadata": {},
   "outputs": [
    {
     "name": "stdout",
     "output_type": "stream",
     "text": [
      "hola,\n"
     ]
    }
   ],
   "source": [
    "saludo=\"hola,\"\n",
    "print(saludo)"
   ]
  },
  {
   "cell_type": "code",
   "execution_count": 7,
   "metadata": {},
   "outputs": [],
   "source": [
    "nombre=\"marcelo\""
   ]
  },
  {
   "cell_type": "code",
   "execution_count": 8,
   "metadata": {
    "scrolled": true
   },
   "outputs": [
    {
     "name": "stdout",
     "output_type": "stream",
     "text": [
      "45\n"
     ]
    }
   ],
   "source": [
    "edad=45\n",
    "print(edad)"
   ]
  },
  {
   "cell_type": "markdown",
   "metadata": {},
   "source": [
    "opcion 1:"
   ]
  },
  {
   "cell_type": "code",
   "execution_count": 9,
   "metadata": {},
   "outputs": [
    {
     "name": "stdout",
     "output_type": "stream",
     "text": [
      "hola, soy  marcelo  y tengo 45 años!\n"
     ]
    }
   ],
   "source": [
    "print(saludo, \"soy \",nombre, \" y tengo\",edad, \"años!\")"
   ]
  },
  {
   "cell_type": "markdown",
   "metadata": {},
   "source": [
    "opción 2:"
   ]
  },
  {
   "cell_type": "code",
   "execution_count": 10,
   "metadata": {},
   "outputs": [
    {
     "name": "stdout",
     "output_type": "stream",
     "text": [
      "hola, soy marceloy tengo 45 años!\n"
     ]
    }
   ],
   "source": [
    "print(saludo+\" soy \"+nombre+\"y tengo \"+str(edad)+\" años!\")"
   ]
  },
  {
   "cell_type": "code",
   "execution_count": 38,
   "metadata": {},
   "outputs": [
    {
     "name": "stdout",
     "output_type": "stream",
     "text": [
      "vos, cuantos años tenes: 46\n"
     ]
    }
   ],
   "source": [
    "edadUsuario= int(input(\"vos, cuantos años tenes: \"))"
   ]
  },
  {
   "cell_type": "code",
   "execution_count": 39,
   "metadata": {},
   "outputs": [],
   "source": [
    "difEdad=edadUsuario-edad"
   ]
  },
  {
   "cell_type": "markdown",
   "metadata": {},
   "source": [
    "# Operadores de decición\n",
    "detalle sobre la sintáxis en python: no se ordena por llaves o comas o puntos de coma. Sólo con tabulaciones!!!"
   ]
  },
  {
   "cell_type": "code",
   "execution_count": 42,
   "metadata": {},
   "outputs": [
    {
     "name": "stdout",
     "output_type": "stream",
     "text": [
      "vos, cuantos años tenes: 58\n",
      "58  tienes  13  más que yo!\n"
     ]
    }
   ],
   "source": [
    "edadUsuario= int(input(\"vos, cuantos años tenes: \"))\n",
    "\n",
    "difEdad=edadUsuario-edad\n",
    "\n",
    "if edadUsuario > edad:\n",
    "    print(edadUsuario,\" tienes \",difEdad,\" más que yo!\")\n",
    "    \n",
    "elif edadUsuario < edad:\n",
    "    import math\n",
    "    print(edadUsuario,\" tienes \",math.fabs(difEdad),\" menos que yo!\")\n",
    "    \n",
    "else:\n",
    "    print(\"tenemos la misma edad!!!\")\n",
    "    \n",
    "##else: \n",
    "    ##print(\"de todas formas podemos ser amigos;)\")"
   ]
  },
  {
   "cell_type": "markdown",
   "metadata": {},
   "source": [
    "armar variaciones con \"and\" y \"or\""
   ]
  },
  {
   "cell_type": "markdown",
   "metadata": {},
   "source": [
    "# incorporando la galería tkinter"
   ]
  },
  {
   "cell_type": "code",
   "execution_count": 52,
   "metadata": {},
   "outputs": [],
   "source": [
    "import tkinter as tk\n",
    "from tkinter import filedialog\n",
    "from tkinter import ttk\n",
    "\n",
    "class HelloWorld(tk.Frame):\n",
    "    def __init__(self, parent):\n",
    "        super(HelloWorld, self).__init__(parent)\n",
    "\n",
    "        self.label = tk.Label(self, text=\"Hello, World!\")\n",
    "        self.label.pack(padx=20, pady=20)\n",
    "        \n",
    "if __name__ == \"__main__\":\n",
    "    root = tk.Tk()\n",
    "\n",
    "    main = HelloWorld(root)\n",
    "    main.pack(fill=\"both\", expand=True)\n",
    "\n",
    "    root.mainloop()"
   ]
  },
  {
   "cell_type": "code",
   "execution_count": null,
   "metadata": {},
   "outputs": [],
   "source": []
  }
 ],
 "metadata": {
  "kernelspec": {
   "display_name": "Python 3",
   "language": "python",
   "name": "python3"
  },
  "language_info": {
   "codemirror_mode": {
    "name": "ipython",
    "version": 3
   },
   "file_extension": ".py",
   "mimetype": "text/x-python",
   "name": "python",
   "nbconvert_exporter": "python",
   "pygments_lexer": "ipython3",
   "version": "3.7.9"
  }
 },
 "nbformat": 4,
 "nbformat_minor": 4
}
