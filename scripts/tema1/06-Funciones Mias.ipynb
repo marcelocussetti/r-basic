{
 "cells": [
  {
   "cell_type": "markdown",
   "metadata": {},
   "source": [
    "# Funciones en Python"
   ]
  },
  {
   "cell_type": "markdown",
   "metadata": {},
   "source": [
    "Métodos"
   ]
  },
  {
   "cell_type": "code",
   "execution_count": 1,
   "metadata": {},
   "outputs": [],
   "source": [
    "def suma(n1,n2):\n",
    "    return n1+n2"
   ]
  },
  {
   "cell_type": "code",
   "execution_count": 34,
   "metadata": {},
   "outputs": [
    {
     "data": {
      "text/plain": [
       "110"
      ]
     },
     "execution_count": 34,
     "metadata": {},
     "output_type": "execute_result"
    }
   ],
   "source": [
    "suma(n1=95,n2=15)"
   ]
  },
  {
   "cell_type": "code",
   "execution_count": null,
   "metadata": {},
   "outputs": [],
   "source": [
    "class operaciones(object):\n",
    "    def suma(self,n1,n2):\n",
    "        self.resultado=n1+n2\n",
    "        return self.resultado\n",
    "    def resta(self,n1,n2):\n",
    "        self.resultado=n1-n2\n",
    "        return self.resultado"
   ]
  },
  {
   "cell_type": "code",
   "execution_count": 44,
   "metadata": {},
   "outputs": [
    {
     "name": "stdout",
     "output_type": "stream",
     "text": [
      "Vamos a realizar algunas operaciones matemáticas simples.\n",
      "por favor ingresa el primer número:5\n",
      "por favor ingresa el segundo número:6\n",
      " la suma nos da: 11.0\n",
      " la resta nos da: -1.0\n",
      " la multiplicacion nos da: 30.0\n",
      " la división nos da: 0.8333333333333334\n"
     ]
    },
    {
     "data": {
      "text/plain": [
       "(11.0, -1.0, 30.0, 0.8333333333333334)"
      ]
     },
     "execution_count": 44,
     "metadata": {},
     "output_type": "execute_result"
    }
   ],
   "source": [
    "print(\"Vamos a realizar algunas operaciones matemáticas simples.\")\n",
    "n1=float(input(\"por favor ingresa el primer número:\"))\n",
    "n2=float(input(\"por favor ingresa el segundo número:\"))\n",
    "\n",
    "\n",
    "class opVarias(object):\n",
    "    def operaciones(self,n1,n2):\n",
    "        self.suma = n1+n2\n",
    "        self.resta = n1-n2\n",
    "        self.multiplicacion = n1*n2\n",
    "        self.division = n1/n2\n",
    "        \n",
    "        print(f\" la suma nos da: {self.suma}\")\n",
    "        print(f\" la resta nos da: {self.resta}\")\n",
    "        print(f\" la multiplicacion nos da: {self.multiplicacion}\")\n",
    "        print(f\" la división nos da: {self.division}\")\n",
    "        \n",
    "        return (self.suma, self.resta, self.multiplicacion, self.division)\n",
    "\n",
    "    \n",
    "instanciaOpVarias = opVarias()    \n",
    "instanciaOpVarias.operaciones(n1,n2)\n",
    "    "
   ]
  },
  {
   "cell_type": "code",
   "execution_count": 39,
   "metadata": {},
   "outputs": [
    {
     "data": {
      "text/plain": [
       "5.0"
      ]
     },
     "execution_count": 39,
     "metadata": {},
     "output_type": "execute_result"
    }
   ],
   "source": [
    "instanciaOp =operaciones()\n",
    "RSuma=instanciaOp.suma(n1,n2)\n",
    "RSuma"
   ]
  },
  {
   "cell_type": "code",
   "execution_count": 40,
   "metadata": {},
   "outputs": [
    {
     "data": {
      "text/plain": [
       "-73.0"
      ]
     },
     "execution_count": 40,
     "metadata": {},
     "output_type": "execute_result"
    }
   ],
   "source": [
    "instanciaOp =operaciones()\n",
    "instanciaOp.resta(n1=RSuma,n2=78)"
   ]
  },
  {
   "cell_type": "markdown",
   "metadata": {},
   "source": [
    "Argumentos de longitud variable, cuando no sabemos cuantas variables va a estar en juego"
   ]
  },
  {
   "cell_type": "code",
   "execution_count": 30,
   "metadata": {},
   "outputs": [],
   "source": [
    "def fVariables (*xvars):\n",
    "    totalSuma = 0\n",
    "    for s in xvars:\n",
    "        #totalSuma = totalSuma + s\n",
    "        totalSuma += s\n",
    "        print(f\"esto vale s: {s}\")\n",
    "    \n",
    "    return(totalSuma)"
   ]
  },
  {
   "cell_type": "code",
   "execution_count": 33,
   "metadata": {},
   "outputs": [
    {
     "name": "stdout",
     "output_type": "stream",
     "text": [
      "esto vale s: 12\n",
      "esto vale s: 58\n",
      "esto vale s: 12.25\n",
      "esto vale s: 6\n"
     ]
    },
    {
     "data": {
      "text/plain": [
       "88.25"
      ]
     },
     "execution_count": 33,
     "metadata": {},
     "output_type": "execute_result"
    }
   ],
   "source": [
    "fVariables(12,58,12.25,6)"
   ]
  },
  {
   "cell_type": "markdown",
   "metadata": {},
   "source": [
    "acá hago mi versión, utilizando vetores:"
   ]
  },
  {
   "cell_type": "code",
   "execution_count": 29,
   "metadata": {},
   "outputs": [
    {
     "name": "stdout",
     "output_type": "stream",
     "text": [
      "pon tantos números como quieras pero separalos con una coma: 5,8,6,5,6,85,57,65,-66\n",
      "['5', '8', '6', '5', '6', '85', '57', '65', '-66']\n",
      "esto vale i: 5\n",
      "esto vale i: 8\n",
      "esto vale i: 6\n",
      "esto vale i: 5\n",
      "esto vale i: 6\n",
      "esto vale i: 85\n",
      "esto vale i: 57\n",
      "esto vale i: 65\n",
      "esto vale i: -66\n"
     ]
    },
    {
     "data": {
      "text/plain": [
       "171.0"
      ]
     },
     "execution_count": 29,
     "metadata": {},
     "output_type": "execute_result"
    }
   ],
   "source": [
    "\n",
    "valoresUsuario=input(\"pon tantos números como quieras pero separalos con una coma: \")\n",
    "vector= valoresUsuario.split(\",\")\n",
    "print(vector)\n",
    "\n",
    "def otraSuma(vector):\n",
    "    suma =0\n",
    "    for i in range(0,len(vector)):\n",
    "        valor= vector[i]\n",
    "        suma= suma + float(valor)\n",
    "        print(f\"esto vale i: {vector[i]}\")\n",
    "        \n",
    "    return (suma)\n",
    "\n",
    "otraSuma(vector)"
   ]
  },
  {
   "cell_type": "markdown",
   "metadata": {},
   "source": [
    "# Funciones anónimas //lambda"
   ]
  },
  {
   "cell_type": "code",
   "execution_count": 34,
   "metadata": {},
   "outputs": [],
   "source": [
    "potencia = lambda n: n**2"
   ]
  },
  {
   "cell_type": "code",
   "execution_count": 35,
   "metadata": {},
   "outputs": [
    {
     "data": {
      "text/plain": [
       "16"
      ]
     },
     "execution_count": 35,
     "metadata": {},
     "output_type": "execute_result"
    }
   ],
   "source": [
    "potencia(4)"
   ]
  },
  {
   "cell_type": "code",
   "execution_count": 36,
   "metadata": {},
   "outputs": [],
   "source": [
    "suma = lambda n1,n2,n3: n1+n2+n3"
   ]
  },
  {
   "cell_type": "code",
   "execution_count": 37,
   "metadata": {},
   "outputs": [
    {
     "data": {
      "text/plain": [
       "74"
      ]
     },
     "execution_count": 37,
     "metadata": {},
     "output_type": "execute_result"
    }
   ],
   "source": [
    "suma(2,58,14)"
   ]
  },
  {
   "cell_type": "code",
   "execution_count": 39,
   "metadata": {},
   "outputs": [],
   "source": [
    "from functools import reduce"
   ]
  },
  {
   "cell_type": "code",
   "execution_count": 40,
   "metadata": {},
   "outputs": [],
   "source": [
    "vector2= [1,3,2,7,5,4,9,6]"
   ]
  },
  {
   "cell_type": "code",
   "execution_count": 41,
   "metadata": {},
   "outputs": [],
   "source": [
    "filtered_data = list(filter(lambda x:(x*2>8),vector2))"
   ]
  },
  {
   "cell_type": "code",
   "execution_count": 42,
   "metadata": {},
   "outputs": [
    {
     "data": {
      "text/plain": [
       "[7, 5, 9, 6]"
      ]
     },
     "execution_count": 42,
     "metadata": {},
     "output_type": "execute_result"
    }
   ],
   "source": [
    "filtered_data"
   ]
  },
  {
   "cell_type": "code",
   "execution_count": 43,
   "metadata": {},
   "outputs": [],
   "source": [
    "mapped_data = list(map(lambda x: x*2, vector2))"
   ]
  },
  {
   "cell_type": "code",
   "execution_count": 44,
   "metadata": {},
   "outputs": [
    {
     "data": {
      "text/plain": [
       "[2, 6, 4, 14, 10, 8, 18, 12]"
      ]
     },
     "execution_count": 44,
     "metadata": {},
     "output_type": "execute_result"
    }
   ],
   "source": [
    "mapped_data"
   ]
  },
  {
   "cell_type": "code",
   "execution_count": 45,
   "metadata": {},
   "outputs": [],
   "source": [
    "reduced_data = reduce(lambda x, y: x+y, vector2)"
   ]
  },
  {
   "cell_type": "code",
   "execution_count": 47,
   "metadata": {},
   "outputs": [
    {
     "data": {
      "text/plain": [
       "37"
      ]
     },
     "execution_count": 47,
     "metadata": {},
     "output_type": "execute_result"
    }
   ],
   "source": [
    "reduced_data"
   ]
  },
  {
   "cell_type": "code",
   "execution_count": null,
   "metadata": {},
   "outputs": [],
   "source": []
  }
 ],
 "metadata": {
  "kernelspec": {
   "display_name": "Python 3",
   "language": "python",
   "name": "python3"
  },
  "language_info": {
   "codemirror_mode": {
    "name": "ipython",
    "version": 3
   },
   "file_extension": ".py",
   "mimetype": "text/x-python",
   "name": "python",
   "nbconvert_exporter": "python",
   "pygments_lexer": "ipython3",
   "version": "3.7.9"
  }
 },
 "nbformat": 4,
 "nbformat_minor": 4
}
