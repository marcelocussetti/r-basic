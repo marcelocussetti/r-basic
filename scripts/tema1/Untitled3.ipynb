{
 "cells": [
  {
   "cell_type": "code",
   "execution_count": 12,
   "metadata": {},
   "outputs": [
    {
     "name": "stdout",
     "output_type": "stream",
     "text": [
      "ingrese un valor en radianes: 1\n",
      "1.0 radianes, equivalen a: 57.3°\n"
     ]
    }
   ],
   "source": [
    "import math\n",
    "rad=float(input(\"ingrese un valor en radianes: \"))\n",
    "\n",
    "def agrados(rad):\n",
    "    \n",
    "    enGrados=rad*180/math.pi\n",
    "    \n",
    "    print(F\"{rad} radianes, equivalen a: {round(enGrados,2)}°\")\n",
    "    \n",
    "    \n",
    "    return\n",
    "\n",
    "agrados(rad)\n"
   ]
  },
  {
   "cell_type": "code",
   "execution_count": null,
   "metadata": {},
   "outputs": [],
   "source": []
  }
 ],
 "metadata": {
  "kernelspec": {
   "display_name": "Python 3",
   "language": "python",
   "name": "python3"
  },
  "language_info": {
   "codemirror_mode": {
    "name": "ipython",
    "version": 3
   },
   "file_extension": ".py",
   "mimetype": "text/x-python",
   "name": "python",
   "nbconvert_exporter": "python",
   "pygments_lexer": "ipython3",
   "version": "3.7.9"
  }
 },
 "nbformat": 4,
 "nbformat_minor": 4
}
